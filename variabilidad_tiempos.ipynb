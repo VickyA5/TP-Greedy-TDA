{
 "cells": [
  {
   "cell_type": "code",
   "execution_count": 19,
   "metadata": {},
   "outputs": [],
   "source": [
    "from utils.utils import _time_run\n",
    "from problema import problema_monedas\n"
   ]
  },
  {
   "cell_type": "code",
   "execution_count": 20,
   "metadata": {},
   "outputs": [],
   "source": [
    "partida_baja_variabilidad  = open(\"./tests_cases/variabilidad_tiempos/partida_baja_variabilidad.txt\", \"r\").readlines()[0].split(\";\")\n",
    "\n",
    "# Cast partida_baja_variabilidad to int\n",
    "partida_baja_variabilidad = [int(i) for i in partida_baja_variabilidad]\n",
    "\n",
    "partida_alta_variabilidad  = open(\"./tests_cases/variabilidad_tiempos/partida_alta_variabilidad.txt\", \"r\").readlines()[0].split(\";\")\n",
    "partida_alta_variabilidad = [int(i) for i in partida_alta_variabilidad]"
   ]
  },
  {
   "cell_type": "code",
   "execution_count": 21,
   "metadata": {},
   "outputs": [
    {
     "name": "stdout",
     "output_type": "stream",
     "text": [
      "0.0\n"
     ]
    }
   ],
   "source": [
    "result = _time_run(problema_monedas, partida_alta_variabilidad)\n",
    "print(result)"
   ]
  }
 ],
 "metadata": {
  "kernelspec": {
   "display_name": "Python 3",
   "language": "python",
   "name": "python3"
  },
  "language_info": {
   "codemirror_mode": {
    "name": "ipython",
    "version": 3
   },
   "file_extension": ".py",
   "mimetype": "text/x-python",
   "name": "python",
   "nbconvert_exporter": "python",
   "pygments_lexer": "ipython3",
   "version": "3.12.6"
  }
 },
 "nbformat": 4,
 "nbformat_minor": 2
}
